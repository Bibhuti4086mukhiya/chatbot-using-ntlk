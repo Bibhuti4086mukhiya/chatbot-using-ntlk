{
 "cells": [
  {
   "cell_type": "code",
   "execution_count": 1,
   "id": "51145f09",
   "metadata": {},
   "outputs": [
    {
     "name": "stderr",
     "output_type": "stream",
     "text": [
      "C:\\Users\\Dell\\anaconda3\\lib\\site-packages\\scipy\\__init__.py:146: UserWarning: A NumPy version >=1.16.5 and <1.23.0 is required for this version of SciPy (detected version 1.24.3\n",
      "  warnings.warn(f\"A NumPy version >={np_minversion} and <{np_maxversion}\"\n"
     ]
    }
   ],
   "source": [
    "import nltk\n",
    "from nltk.chat.util import Chat, reflections"
   ]
  },
  {
   "cell_type": "code",
   "execution_count": 5,
   "id": "d022fbd4",
   "metadata": {},
   "outputs": [],
   "source": [
    "pairs = [\n",
    "    [\n",
    "        r\"hello|hi|greetings|sup|what's up|hey\",\n",
    "        [\"Hello\", \"Hey there\",\"hi\", \"hey\", \"hi there\", \"hello\", \"I am glad! You are talking to me\" ]\n",
    "    ],\n",
    "     \n",
    "    [\n",
    "        r\"9800000001|9800000001A|ram\",\n",
    "        [\"Dear ram your 9800000001A has a balance of Rs. 999999\",]\n",
    "    ],\n",
    "    [\n",
    "        r\"9800000002|9800000002B|hari\",\n",
    "        [\"Dear hari your 9800000002B has a balance of Rs. 888888\",]\n",
    "    ],\n",
    "    [\n",
    "        r\"9800000003|9800000003C|shyam\",\n",
    "        [\"Dear shyam your 9800000003C has a balance of Rs. 777777\",]\n",
    "    ],\n",
    "    [\n",
    "        r\"9800000004|9800000004D|sita\",\n",
    "        [\"Dear sita your 9800000004D has a balance of Rs. 444444\",]\n",
    "    ],\n",
    "    [\n",
    "        r\"9800000005|9800000005E|sundar\",\n",
    "        [\"Dear sundar your 9800000005E has a balance of Rs. 3333333\",]\n",
    "    ],\n",
    "    [\n",
    "        r\"9800000006|9800000007F|krishna\",\n",
    "        [\"Dear krishna your 9800000007F has a balance of Rs. 787878\",]\n",
    "    ],\n",
    "    [\n",
    "        r\"9800000007|9800000007G|vishnu\",\n",
    "        [\"Dear vishnu your 9800000007G has a balance of Rs. 5454554\",]\n",
    "    ],\n",
    "    [\n",
    "        r\"9800000008|9800000008H|gautam\",\n",
    "        [\"Dear gautam your 9800000008H has a balance of Rs. 7877464\",]\n",
    "    ],\n",
    "    [\n",
    "        r\"9800000009|9800000009I|shiva\",\n",
    "        [\"Dear shiva your 9800000009I has a balance of Rs. 66664646\",]\n",
    "    ],\n",
    "    [\n",
    "        r\"9800000011|980000000M1|laxmi\",\n",
    "        [\"Dear laxmi your 980000000A1 has a balance of Rs. 8877766\",]\n",
    "    ],   \n",
    "]\n",
    "\n",
    "  "
   ]
  },
  {
   "cell_type": "code",
   "execution_count": null,
   "id": "56f97c3d",
   "metadata": {},
   "outputs": [
    {
     "name": "stdout",
     "output_type": "stream",
     "text": [
      "Hi! I am a chatbot tell me you account details ?\n",
      ">bye\n",
      "see you soon\n"
     ]
    }
   ],
   "source": [
    "def chat():\n",
    "    print(\"Hi! I am a chatbot tell me you account details ?\")\n",
    "    chat = Chat(pairs)\n",
    "    chat.converse()\n",
    "#initiate the conversation\n",
    "if __name__ == \"__main__\":\n",
    "    chat()"
   ]
  },
  {
   "cell_type": "code",
   "execution_count": null,
   "id": "86b7fff1",
   "metadata": {},
   "outputs": [],
   "source": [
    "# input -- name|account number|phone number\n",
    "# ouput-- Dear {name} your {account} has a balance of Rs. {amount}"
   ]
  }
 ],
 "metadata": {
  "kernelspec": {
   "display_name": "Python 3 (ipykernel)",
   "language": "python",
   "name": "python3"
  },
  "language_info": {
   "codemirror_mode": {
    "name": "ipython",
    "version": 3
   },
   "file_extension": ".py",
   "mimetype": "text/x-python",
   "name": "python",
   "nbconvert_exporter": "python",
   "pygments_lexer": "ipython3",
   "version": "3.9.12"
  }
 },
 "nbformat": 4,
 "nbformat_minor": 5
}
